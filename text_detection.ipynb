{
 "cells": [
  {
   "cell_type": "code",
   "execution_count": 1,
   "metadata": {},
   "outputs": [],
   "source": [
    "# %pip install pytesseract\n",
    "# %pip install opencv-python"
   ]
  },
  {
   "cell_type": "code",
   "execution_count": 6,
   "metadata": {},
   "outputs": [],
   "source": [
    "from PIL import Image\n",
    "import pytesseract, cv2"
   ]
  },
  {
   "cell_type": "code",
   "execution_count": 7,
   "metadata": {},
   "outputs": [],
   "source": [
    "\"\"\"\n",
    "Need to install Tesseract from https://github.com/UB-Mannheim/tesseract/wiki for windows.\n",
    "General documentation at https://tesseract-ocr.github.io/tessdoc/Installation.html\n",
    "Need to add the Path below\n",
    "\"\"\"\n",
    "# If you don't have tesseract executable in your PATH, include the following:\n",
    "pytesseract.pytesseract.tesseract_cmd = r'C:/Users/118441/AppData/Local/Programs/Tesseract-OCR/tesseract.exe'\n",
    "# Example tesseract_cmd = r'C:\\Program Files (x86)\\Tesseract-OCR\\tesseract'"
   ]
  },
  {
   "cell_type": "code",
   "execution_count": 13,
   "metadata": {},
   "outputs": [],
   "source": [
    "file_location = r'C:/Users/118441/OneDrive - Amey plc/Documents/Highways/images/I_AP.jpg'"
   ]
  },
  {
   "cell_type": "code",
   "execution_count": 14,
   "metadata": {},
   "outputs": [],
   "source": [
    "# open the image file\n",
    "image = Image.open(file_location)"
   ]
  },
  {
   "cell_type": "code",
   "execution_count": 15,
   "metadata": {},
   "outputs": [],
   "source": [
    "# Convert the image to text\n",
    "text = pytesseract.image_to_string(image)\n",
    "\n",
    "# Count the number of words in the text\n",
    "word_count = len(text.split())"
   ]
  },
  {
   "cell_type": "code",
   "execution_count": 16,
   "metadata": {},
   "outputs": [
    {
     "name": "stdout",
     "output_type": "stream",
     "text": [
      "Term Contractor Technology Communications,\n",
      "collaboration and Developers and OEMS etc.\n",
      "Implementa data providers\n",
      "\n",
      "Work with Local Work at the regional Collaborate with,\n",
      "Authorities to accelerate level to overcome data encourage and support\n",
      "uptake of Digital Local sharing issues across standards development\n",
      "Roads solutions Authorities Engage nares\n",
      "\n",
      "Share the benefits Collaborate with, industry and cross\n",
      "(e.g. where there a ‘encourage and support sector collaboration to\n",
      "cost reductions) with standards development encourage and drive\n",
      "Local Authorities (ree Pes data access\n",
      "\n",
      "to help overcome to proactively expand Collaborate with\n",
      "\n",
      "tisk averseness and the ap} Authorities to establish\n",
      "GREE greater numbers of processes for real time\n",
      "Ld Authorities. Focus on mutual data exchange\n",
      "Promote experience i ing costs to\n",
      "\n",
      "and benefits across Authorities and help\n",
      "\n",
      "Authorities, including Authorities establish\n",
      "\n",
      "‘experience gained business cases.\n",
      "\n",
      "eamecueay) Identify and share\n",
      "\n",
      "Cost effectively experience gained\n",
      "\n",
      "implement lessons internationally\n",
      "\n",
      "learnt in one contract/\n",
      "\n",
      "Authority over all\n",
      "\n",
      "contracts\n",
      "\n",
      "\n"
     ]
    }
   ],
   "source": [
    "# Print the recognized text\n",
    "print(text)"
   ]
  },
  {
   "cell_type": "code",
   "execution_count": 17,
   "metadata": {},
   "outputs": [
    {
     "data": {
      "text/plain": [
       "1097"
      ]
     },
     "execution_count": 17,
     "metadata": {},
     "output_type": "execute_result"
    }
   ],
   "source": [
    "len(text)"
   ]
  },
  {
   "cell_type": "code",
   "execution_count": 18,
   "metadata": {},
   "outputs": [
    {
     "name": "stdout",
     "output_type": "stream",
     "text": [
      "The image contains 148 words.\n"
     ]
    }
   ],
   "source": [
    "# Print the word count\n",
    "print(f'The image contains {word_count} words.')"
   ]
  },
  {
   "cell_type": "code",
   "execution_count": 23,
   "metadata": {},
   "outputs": [],
   "source": [
    "img = cv2.imread(file_location)\n",
    "# process each image to make text more readable\n",
    "greyscale = cv2.cvtColor(img, cv2.COLOR_BGR2GRAY)\n",
    "noise = cv2.medianBlur(greyscale, 3)\n",
    "thresh = cv2.threshold(noise, 0, 255, cv2.THRESH_BINARY | cv2.THRESH_OTSU)[1]\n",
    "\n",
    "# read processed image\n",
    "image_text = pytesseract.image_to_string(thresh)\n",
    "\n",
    "file_contents = image_text.split()\n",
    "\n",
    "# Count the number of words in the text\n",
    "word_count_cv2 = len(file_contents)"
   ]
  },
  {
   "cell_type": "code",
   "execution_count": 25,
   "metadata": {},
   "outputs": [
    {
     "name": "stdout",
     "output_type": "stream",
     "text": [
      "Term Contractor Technology Communications,\n",
      "collaboration and Developers and OEMS etc.\n",
      "Implementation data providers\n",
      "\n",
      "Work nth Local + Work at the regeonal + Collaborate with,\n",
      "Authonties to accelerate level to overcome dats encourage and support\n",
      "uptake of Ongrtal Local standards development\n",
      "Roads solutions € in crows\n",
      "\n",
      "‘Share the benefits : industry and cross\n",
      "(2.9 where there are sector collaboration to\n",
      "cost reductions) with standards development encourage and drive\n",
      "Local Authorbes + Use contral nuthatives data socess\n",
      "\n",
      "tehelp overcome to proactively expand + Collaborate with\n",
      "\n",
      "nak aversoness and the apphcation across Authors to extablith\n",
      "encowage wider take- greater numbers of processes for real tne\n",
      "“ Authorities, Focus on mutual date exchange\n",
      "Promote expenence mminwmiting costs to\n",
      "\n",
      "and benefits across Authortues and help\n",
      "\n",
      "Axahonties, incheding Authorves establish\n",
      "\n",
      "experience gamed business cases.\n",
      "\n",
      "internationally + dently and share\n",
      "\n",
      "Cost effectively expenence gained\n",
      "\n",
      "implement lessons inkernabonslly\n",
      "\n",
      "learnt in one contract/\n",
      "\n",
      "Authonty over all\n",
      "\n",
      "contacts\n",
      "\n",
      "\n"
     ]
    }
   ],
   "source": [
    "print(image_text)"
   ]
  },
  {
   "cell_type": "code",
   "execution_count": 24,
   "metadata": {},
   "outputs": [
    {
     "data": {
      "text/plain": [
       "['Term',\n",
       " 'Contractor',\n",
       " 'Technology',\n",
       " 'Communications,',\n",
       " 'collaboration',\n",
       " 'and',\n",
       " 'Developers',\n",
       " 'and',\n",
       " 'OEMS',\n",
       " 'etc.',\n",
       " 'Implementation',\n",
       " 'data',\n",
       " 'providers',\n",
       " 'Work',\n",
       " 'nth',\n",
       " 'Local',\n",
       " '+',\n",
       " 'Work',\n",
       " 'at',\n",
       " 'the',\n",
       " 'regeonal',\n",
       " '+',\n",
       " 'Collaborate',\n",
       " 'with,',\n",
       " 'Authonties',\n",
       " 'to',\n",
       " 'accelerate',\n",
       " 'level',\n",
       " 'to',\n",
       " 'overcome',\n",
       " 'dats',\n",
       " 'encourage',\n",
       " 'and',\n",
       " 'support',\n",
       " 'uptake',\n",
       " 'of',\n",
       " 'Ongrtal',\n",
       " 'Local',\n",
       " 'standards',\n",
       " 'development',\n",
       " 'Roads',\n",
       " 'solutions',\n",
       " '€',\n",
       " 'in',\n",
       " 'crows',\n",
       " '‘Share',\n",
       " 'the',\n",
       " 'benefits',\n",
       " ':',\n",
       " 'industry',\n",
       " 'and',\n",
       " 'cross',\n",
       " '(2.9',\n",
       " 'where',\n",
       " 'there',\n",
       " 'are',\n",
       " 'sector',\n",
       " 'collaboration',\n",
       " 'to',\n",
       " 'cost',\n",
       " 'reductions)',\n",
       " 'with',\n",
       " 'standards',\n",
       " 'development',\n",
       " 'encourage',\n",
       " 'and',\n",
       " 'drive',\n",
       " 'Local',\n",
       " 'Authorbes',\n",
       " '+',\n",
       " 'Use',\n",
       " 'contral',\n",
       " 'nuthatives',\n",
       " 'data',\n",
       " 'socess',\n",
       " 'tehelp',\n",
       " 'overcome',\n",
       " 'to',\n",
       " 'proactively',\n",
       " 'expand',\n",
       " '+',\n",
       " 'Collaborate',\n",
       " 'with',\n",
       " 'nak',\n",
       " 'aversoness',\n",
       " 'and',\n",
       " 'the',\n",
       " 'apphcation',\n",
       " 'across',\n",
       " 'Authors',\n",
       " 'to',\n",
       " 'extablith',\n",
       " 'encowage',\n",
       " 'wider',\n",
       " 'take-',\n",
       " 'greater',\n",
       " 'numbers',\n",
       " 'of',\n",
       " 'processes',\n",
       " 'for',\n",
       " 'real',\n",
       " 'tne',\n",
       " '“',\n",
       " 'Authorities,',\n",
       " 'Focus',\n",
       " 'on',\n",
       " 'mutual',\n",
       " 'date',\n",
       " 'exchange',\n",
       " 'Promote',\n",
       " 'expenence',\n",
       " 'mminwmiting',\n",
       " 'costs',\n",
       " 'to',\n",
       " 'and',\n",
       " 'benefits',\n",
       " 'across',\n",
       " 'Authortues',\n",
       " 'and',\n",
       " 'help',\n",
       " 'Axahonties,',\n",
       " 'incheding',\n",
       " 'Authorves',\n",
       " 'establish',\n",
       " 'experience',\n",
       " 'gamed',\n",
       " 'business',\n",
       " 'cases.',\n",
       " 'internationally',\n",
       " '+',\n",
       " 'dently',\n",
       " 'and',\n",
       " 'share',\n",
       " 'Cost',\n",
       " 'effectively',\n",
       " 'expenence',\n",
       " 'gained',\n",
       " 'implement',\n",
       " 'lessons',\n",
       " 'inkernabonslly',\n",
       " 'learnt',\n",
       " 'in',\n",
       " 'one',\n",
       " 'contract/',\n",
       " 'Authonty',\n",
       " 'over',\n",
       " 'all',\n",
       " 'contacts']"
      ]
     },
     "execution_count": 24,
     "metadata": {},
     "output_type": "execute_result"
    }
   ],
   "source": [
    "file_contents"
   ]
  },
  {
   "cell_type": "code",
   "execution_count": 22,
   "metadata": {},
   "outputs": [
    {
     "name": "stdout",
     "output_type": "stream",
     "text": [
      "The image contains 148 words.\n"
     ]
    }
   ],
   "source": [
    "# Print the word count\n",
    "print(f'The image contains {word_count_cv2} words.')"
   ]
  },
  {
   "cell_type": "code",
   "execution_count": null,
   "metadata": {},
   "outputs": [],
   "source": []
  }
 ],
 "metadata": {
  "kernelspec": {
   "display_name": "Python 3",
   "language": "python",
   "name": "python3"
  },
  "language_info": {
   "codemirror_mode": {
    "name": "ipython",
    "version": 3
   },
   "file_extension": ".py",
   "mimetype": "text/x-python",
   "name": "python",
   "nbconvert_exporter": "python",
   "pygments_lexer": "ipython3",
   "version": "3.12.0"
  }
 },
 "nbformat": 4,
 "nbformat_minor": 2
}
