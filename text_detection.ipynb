{
 "cells": [
  {
   "cell_type": "code",
   "execution_count": 2,
   "metadata": {},
   "outputs": [
    {
     "name": "stdout",
     "output_type": "stream",
     "text": [
      "Requirement already satisfied: streamlit in c:\\users\\118441\\appdata\\local\\programs\\python\\python312\\lib\\site-packages (1.29.0)\n",
      "Requirement already satisfied: altair<6,>=4.0 in c:\\users\\118441\\appdata\\local\\programs\\python\\python312\\lib\\site-packages (from streamlit) (5.2.0)\n",
      "Requirement already satisfied: blinker<2,>=1.0.0 in c:\\users\\118441\\appdata\\local\\programs\\python\\python312\\lib\\site-packages (from streamlit) (1.7.0)\n",
      "Requirement already satisfied: cachetools<6,>=4.0 in c:\\users\\118441\\appdata\\local\\programs\\python\\python312\\lib\\site-packages (from streamlit) (5.3.2)\n",
      "Requirement already satisfied: click<9,>=7.0 in c:\\users\\118441\\appdata\\local\\programs\\python\\python312\\lib\\site-packages (from streamlit) (8.1.7)\n",
      "Requirement already satisfied: importlib-metadata<7,>=1.4 in c:\\users\\118441\\appdata\\local\\programs\\python\\python312\\lib\\site-packages (from streamlit) (6.11.0)\n",
      "Requirement already satisfied: numpy<2,>=1.19.3 in c:\\users\\118441\\appdata\\local\\programs\\python\\python312\\lib\\site-packages (from streamlit) (1.26.0)\n",
      "Requirement already satisfied: packaging<24,>=16.8 in c:\\users\\118441\\appdata\\roaming\\python\\python312\\site-packages (from streamlit) (23.2)\n",
      "Requirement already satisfied: pandas<3,>=1.3.0 in c:\\users\\118441\\appdata\\local\\programs\\python\\python312\\lib\\site-packages (from streamlit) (2.1.1)\n",
      "Requirement already satisfied: pillow<11,>=7.1.0 in c:\\users\\118441\\appdata\\local\\programs\\python\\python312\\lib\\site-packages (from streamlit) (10.0.1)\n",
      "Requirement already satisfied: protobuf<5,>=3.20 in c:\\users\\118441\\appdata\\local\\programs\\python\\python312\\lib\\site-packages (from streamlit) (4.25.1)\n",
      "Requirement already satisfied: pyarrow>=6.0 in c:\\users\\118441\\appdata\\local\\programs\\python\\python312\\lib\\site-packages (from streamlit) (14.0.1)\n",
      "Requirement already satisfied: python-dateutil<3,>=2.7.3 in c:\\users\\118441\\appdata\\roaming\\python\\python312\\site-packages (from streamlit) (2.8.2)\n",
      "Requirement already satisfied: requests<3,>=2.27 in c:\\users\\118441\\appdata\\local\\programs\\python\\python312\\lib\\site-packages (from streamlit) (2.31.0)\n",
      "Requirement already satisfied: rich<14,>=10.14.0 in c:\\users\\118441\\appdata\\local\\programs\\python\\python312\\lib\\site-packages (from streamlit) (13.7.0)\n",
      "Requirement already satisfied: tenacity<9,>=8.1.0 in c:\\users\\118441\\appdata\\local\\programs\\python\\python312\\lib\\site-packages (from streamlit) (8.2.3)\n",
      "Requirement already satisfied: toml<2,>=0.10.1 in c:\\users\\118441\\appdata\\local\\programs\\python\\python312\\lib\\site-packages (from streamlit) (0.10.2)\n",
      "Requirement already satisfied: typing-extensions<5,>=4.3.0 in c:\\users\\118441\\appdata\\local\\programs\\python\\python312\\lib\\site-packages (from streamlit) (4.8.0)\n",
      "Requirement already satisfied: tzlocal<6,>=1.1 in c:\\users\\118441\\appdata\\local\\programs\\python\\python312\\lib\\site-packages (from streamlit) (5.2)\n",
      "Requirement already satisfied: validators<1,>=0.2 in c:\\users\\118441\\appdata\\local\\programs\\python\\python312\\lib\\site-packages (from streamlit) (0.22.0)\n",
      "Requirement already satisfied: gitpython!=3.1.19,<4,>=3.0.7 in c:\\users\\118441\\appdata\\local\\programs\\python\\python312\\lib\\site-packages (from streamlit) (3.1.40)\n",
      "Requirement already satisfied: pydeck<1,>=0.8.0b4 in c:\\users\\118441\\appdata\\local\\programs\\python\\python312\\lib\\site-packages (from streamlit) (0.8.1b0)\n",
      "Requirement already satisfied: tornado<7,>=6.0.3 in c:\\users\\118441\\appdata\\roaming\\python\\python312\\site-packages (from streamlit) (6.3.3)\n",
      "Requirement already satisfied: watchdog>=2.1.5 in c:\\users\\118441\\appdata\\local\\programs\\python\\python312\\lib\\site-packages (from streamlit) (3.0.0)\n",
      "Requirement already satisfied: jinja2 in c:\\users\\118441\\appdata\\local\\programs\\python\\python312\\lib\\site-packages (from altair<6,>=4.0->streamlit) (3.1.2)\n",
      "Requirement already satisfied: jsonschema>=3.0 in c:\\users\\118441\\appdata\\local\\programs\\python\\python312\\lib\\site-packages (from altair<6,>=4.0->streamlit) (4.20.0)\n",
      "Requirement already satisfied: toolz in c:\\users\\118441\\appdata\\local\\programs\\python\\python312\\lib\\site-packages (from altair<6,>=4.0->streamlit) (0.12.0)\n",
      "Requirement already satisfied: colorama in c:\\users\\118441\\appdata\\roaming\\python\\python312\\site-packages (from click<9,>=7.0->streamlit) (0.4.6)\n",
      "Requirement already satisfied: gitdb<5,>=4.0.1 in c:\\users\\118441\\appdata\\local\\programs\\python\\python312\\lib\\site-packages (from gitpython!=3.1.19,<4,>=3.0.7->streamlit) (4.0.11)\n",
      "Requirement already satisfied: zipp>=0.5 in c:\\users\\118441\\appdata\\local\\programs\\python\\python312\\lib\\site-packages (from importlib-metadata<7,>=1.4->streamlit) (3.17.0)\n",
      "Requirement already satisfied: pytz>=2020.1 in c:\\users\\118441\\appdata\\local\\programs\\python\\python312\\lib\\site-packages (from pandas<3,>=1.3.0->streamlit) (2023.3.post1)\n",
      "Requirement already satisfied: tzdata>=2022.1 in c:\\users\\118441\\appdata\\local\\programs\\python\\python312\\lib\\site-packages (from pandas<3,>=1.3.0->streamlit) (2023.3)\n",
      "Requirement already satisfied: six>=1.5 in c:\\users\\118441\\appdata\\roaming\\python\\python312\\site-packages (from python-dateutil<3,>=2.7.3->streamlit) (1.16.0)\n",
      "Requirement already satisfied: charset-normalizer<4,>=2 in c:\\users\\118441\\appdata\\local\\programs\\python\\python312\\lib\\site-packages (from requests<3,>=2.27->streamlit) (3.3.0)\n",
      "Requirement already satisfied: idna<4,>=2.5 in c:\\users\\118441\\appdata\\local\\programs\\python\\python312\\lib\\site-packages (from requests<3,>=2.27->streamlit) (3.4)\n",
      "Requirement already satisfied: urllib3<3,>=1.21.1 in c:\\users\\118441\\appdata\\local\\programs\\python\\python312\\lib\\site-packages (from requests<3,>=2.27->streamlit) (2.0.6)\n",
      "Requirement already satisfied: certifi>=2017.4.17 in c:\\users\\118441\\appdata\\local\\programs\\python\\python312\\lib\\site-packages (from requests<3,>=2.27->streamlit) (2023.7.22)\n",
      "Requirement already satisfied: markdown-it-py>=2.2.0 in c:\\users\\118441\\appdata\\local\\programs\\python\\python312\\lib\\site-packages (from rich<14,>=10.14.0->streamlit) (3.0.0)\n",
      "Requirement already satisfied: pygments<3.0.0,>=2.13.0 in c:\\users\\118441\\appdata\\roaming\\python\\python312\\site-packages (from rich<14,>=10.14.0->streamlit) (2.16.1)\n",
      "Requirement already satisfied: smmap<6,>=3.0.1 in c:\\users\\118441\\appdata\\local\\programs\\python\\python312\\lib\\site-packages (from gitdb<5,>=4.0.1->gitpython!=3.1.19,<4,>=3.0.7->streamlit) (5.0.1)\n",
      "Requirement already satisfied: MarkupSafe>=2.0 in c:\\users\\118441\\appdata\\local\\programs\\python\\python312\\lib\\site-packages (from jinja2->altair<6,>=4.0->streamlit) (2.1.3)\n",
      "Requirement already satisfied: attrs>=22.2.0 in c:\\users\\118441\\appdata\\local\\programs\\python\\python312\\lib\\site-packages (from jsonschema>=3.0->altair<6,>=4.0->streamlit) (23.1.0)\n",
      "Requirement already satisfied: jsonschema-specifications>=2023.03.6 in c:\\users\\118441\\appdata\\local\\programs\\python\\python312\\lib\\site-packages (from jsonschema>=3.0->altair<6,>=4.0->streamlit) (2023.11.2)\n",
      "Requirement already satisfied: referencing>=0.28.4 in c:\\users\\118441\\appdata\\local\\programs\\python\\python312\\lib\\site-packages (from jsonschema>=3.0->altair<6,>=4.0->streamlit) (0.31.1)\n",
      "Requirement already satisfied: rpds-py>=0.7.1 in c:\\users\\118441\\appdata\\local\\programs\\python\\python312\\lib\\site-packages (from jsonschema>=3.0->altair<6,>=4.0->streamlit) (0.13.2)\n",
      "Requirement already satisfied: mdurl~=0.1 in c:\\users\\118441\\appdata\\local\\programs\\python\\python312\\lib\\site-packages (from markdown-it-py>=2.2.0->rich<14,>=10.14.0->streamlit) (0.1.2)\n",
      "Note: you may need to restart the kernel to use updated packages.\n"
     ]
    }
   ],
   "source": [
    "# %pip install pytesseract\n",
    "# %pip install opencv-python\n",
    "# %pip install streamlit"
   ]
  },
  {
   "cell_type": "code",
   "execution_count": 6,
   "metadata": {},
   "outputs": [],
   "source": [
    "from PIL import Image\n",
    "import pytesseract, cv2"
   ]
  },
  {
   "cell_type": "code",
   "execution_count": 7,
   "metadata": {},
   "outputs": [],
   "source": [
    "\"\"\"\n",
    "Need to install Tesseract from https://github.com/UB-Mannheim/tesseract/wiki for windows.\n",
    "General documentation at https://tesseract-ocr.github.io/tessdoc/Installation.html\n",
    "Need to add the Path below\n",
    "\"\"\"\n",
    "# If you don't have tesseract executable in your PATH, include the following:\n",
    "pytesseract.pytesseract.tesseract_cmd = r'C:/Users/118441/AppData/Local/Programs/Tesseract-OCR/tesseract.exe'\n",
    "# Example tesseract_cmd = r'C:\\Program Files (x86)\\Tesseract-OCR\\tesseract'"
   ]
  },
  {
   "cell_type": "code",
   "execution_count": 13,
   "metadata": {},
   "outputs": [],
   "source": [
    "file_location = r'C:/Users/118441/OneDrive - Amey plc/Documents/Highways/images/I_AP.jpg'"
   ]
  },
  {
   "cell_type": "code",
   "execution_count": 14,
   "metadata": {},
   "outputs": [],
   "source": [
    "# open the image file\n",
    "image = Image.open(file_location)"
   ]
  },
  {
   "cell_type": "code",
   "execution_count": 15,
   "metadata": {},
   "outputs": [],
   "source": [
    "# Convert the image to text\n",
    "text = pytesseract.image_to_string(image)\n",
    "\n",
    "# Count the number of words in the text\n",
    "word_count = len(text.split())"
   ]
  },
  {
   "cell_type": "code",
   "execution_count": 16,
   "metadata": {},
   "outputs": [
    {
     "name": "stdout",
     "output_type": "stream",
     "text": [
      "Term Contractor Technology Communications,\n",
      "collaboration and Developers and OEMS etc.\n",
      "Implementa data providers\n",
      "\n",
      "Work with Local Work at the regional Collaborate with,\n",
      "Authorities to accelerate level to overcome data encourage and support\n",
      "uptake of Digital Local sharing issues across standards development\n",
      "Roads solutions Authorities Engage nares\n",
      "\n",
      "Share the benefits Collaborate with, industry and cross\n",
      "(e.g. where there a ‘encourage and support sector collaboration to\n",
      "cost reductions) with standards development encourage and drive\n",
      "Local Authorities (ree Pes data access\n",
      "\n",
      "to help overcome to proactively expand Collaborate with\n",
      "\n",
      "tisk averseness and the ap} Authorities to establish\n",
      "GREE greater numbers of processes for real time\n",
      "Ld Authorities. Focus on mutual data exchange\n",
      "Promote experience i ing costs to\n",
      "\n",
      "and benefits across Authorities and help\n",
      "\n",
      "Authorities, including Authorities establish\n",
      "\n",
      "‘experience gained business cases.\n",
      "\n",
      "eamecueay) Identify and share\n",
      "\n",
      "Cost effectively experience gained\n",
      "\n",
      "implement lessons internationally\n",
      "\n",
      "learnt in one contract/\n",
      "\n",
      "Authority over all\n",
      "\n",
      "contracts\n",
      "\n",
      "\n"
     ]
    }
   ],
   "source": [
    "# Print the recognized text\n",
    "print(text)"
   ]
  },
  {
   "cell_type": "code",
   "execution_count": 17,
   "metadata": {},
   "outputs": [
    {
     "data": {
      "text/plain": [
       "1097"
      ]
     },
     "execution_count": 17,
     "metadata": {},
     "output_type": "execute_result"
    }
   ],
   "source": [
    "len(text)"
   ]
  },
  {
   "cell_type": "code",
   "execution_count": 18,
   "metadata": {},
   "outputs": [
    {
     "name": "stdout",
     "output_type": "stream",
     "text": [
      "The image contains 148 words.\n"
     ]
    }
   ],
   "source": [
    "# Print the word count\n",
    "print(f'The image contains {word_count} words.')"
   ]
  },
  {
   "cell_type": "code",
   "execution_count": 23,
   "metadata": {},
   "outputs": [],
   "source": [
    "img = cv2.imread(file_location)\n",
    "# process each image to make text more readable\n",
    "greyscale = cv2.cvtColor(img, cv2.COLOR_BGR2GRAY)\n",
    "noise = cv2.medianBlur(greyscale, 3)\n",
    "thresh = cv2.threshold(noise, 0, 255, cv2.THRESH_BINARY | cv2.THRESH_OTSU)[1]\n",
    "\n",
    "# read processed image\n",
    "image_text = pytesseract.image_to_string(thresh)\n",
    "\n",
    "file_contents = image_text.split()\n",
    "\n",
    "# Count the number of words in the text\n",
    "word_count_cv2 = len(file_contents)"
   ]
  },
  {
   "cell_type": "code",
   "execution_count": 25,
   "metadata": {},
   "outputs": [
    {
     "name": "stdout",
     "output_type": "stream",
     "text": [
      "Term Contractor Technology Communications,\n",
      "collaboration and Developers and OEMS etc.\n",
      "Implementation data providers\n",
      "\n",
      "Work nth Local + Work at the regeonal + Collaborate with,\n",
      "Authonties to accelerate level to overcome dats encourage and support\n",
      "uptake of Ongrtal Local standards development\n",
      "Roads solutions € in crows\n",
      "\n",
      "‘Share the benefits : industry and cross\n",
      "(2.9 where there are sector collaboration to\n",
      "cost reductions) with standards development encourage and drive\n",
      "Local Authorbes + Use contral nuthatives data socess\n",
      "\n",
      "tehelp overcome to proactively expand + Collaborate with\n",
      "\n",
      "nak aversoness and the apphcation across Authors to extablith\n",
      "encowage wider take- greater numbers of processes for real tne\n",
      "“ Authorities, Focus on mutual date exchange\n",
      "Promote expenence mminwmiting costs to\n",
      "\n",
      "and benefits across Authortues and help\n",
      "\n",
      "Axahonties, incheding Authorves establish\n",
      "\n",
      "experience gamed business cases.\n",
      "\n",
      "internationally + dently and share\n",
      "\n",
      "Cost effectively expenence gained\n",
      "\n",
      "implement lessons inkernabonslly\n",
      "\n",
      "learnt in one contract/\n",
      "\n",
      "Authonty over all\n",
      "\n",
      "contacts\n",
      "\n",
      "\n"
     ]
    }
   ],
   "source": [
    "print(image_text)"
   ]
  },
  {
   "cell_type": "code",
   "execution_count": 24,
   "metadata": {},
   "outputs": [
    {
     "data": {
      "text/plain": [
       "['Term',\n",
       " 'Contractor',\n",
       " 'Technology',\n",
       " 'Communications,',\n",
       " 'collaboration',\n",
       " 'and',\n",
       " 'Developers',\n",
       " 'and',\n",
       " 'OEMS',\n",
       " 'etc.',\n",
       " 'Implementation',\n",
       " 'data',\n",
       " 'providers',\n",
       " 'Work',\n",
       " 'nth',\n",
       " 'Local',\n",
       " '+',\n",
       " 'Work',\n",
       " 'at',\n",
       " 'the',\n",
       " 'regeonal',\n",
       " '+',\n",
       " 'Collaborate',\n",
       " 'with,',\n",
       " 'Authonties',\n",
       " 'to',\n",
       " 'accelerate',\n",
       " 'level',\n",
       " 'to',\n",
       " 'overcome',\n",
       " 'dats',\n",
       " 'encourage',\n",
       " 'and',\n",
       " 'support',\n",
       " 'uptake',\n",
       " 'of',\n",
       " 'Ongrtal',\n",
       " 'Local',\n",
       " 'standards',\n",
       " 'development',\n",
       " 'Roads',\n",
       " 'solutions',\n",
       " '€',\n",
       " 'in',\n",
       " 'crows',\n",
       " '‘Share',\n",
       " 'the',\n",
       " 'benefits',\n",
       " ':',\n",
       " 'industry',\n",
       " 'and',\n",
       " 'cross',\n",
       " '(2.9',\n",
       " 'where',\n",
       " 'there',\n",
       " 'are',\n",
       " 'sector',\n",
       " 'collaboration',\n",
       " 'to',\n",
       " 'cost',\n",
       " 'reductions)',\n",
       " 'with',\n",
       " 'standards',\n",
       " 'development',\n",
       " 'encourage',\n",
       " 'and',\n",
       " 'drive',\n",
       " 'Local',\n",
       " 'Authorbes',\n",
       " '+',\n",
       " 'Use',\n",
       " 'contral',\n",
       " 'nuthatives',\n",
       " 'data',\n",
       " 'socess',\n",
       " 'tehelp',\n",
       " 'overcome',\n",
       " 'to',\n",
       " 'proactively',\n",
       " 'expand',\n",
       " '+',\n",
       " 'Collaborate',\n",
       " 'with',\n",
       " 'nak',\n",
       " 'aversoness',\n",
       " 'and',\n",
       " 'the',\n",
       " 'apphcation',\n",
       " 'across',\n",
       " 'Authors',\n",
       " 'to',\n",
       " 'extablith',\n",
       " 'encowage',\n",
       " 'wider',\n",
       " 'take-',\n",
       " 'greater',\n",
       " 'numbers',\n",
       " 'of',\n",
       " 'processes',\n",
       " 'for',\n",
       " 'real',\n",
       " 'tne',\n",
       " '“',\n",
       " 'Authorities,',\n",
       " 'Focus',\n",
       " 'on',\n",
       " 'mutual',\n",
       " 'date',\n",
       " 'exchange',\n",
       " 'Promote',\n",
       " 'expenence',\n",
       " 'mminwmiting',\n",
       " 'costs',\n",
       " 'to',\n",
       " 'and',\n",
       " 'benefits',\n",
       " 'across',\n",
       " 'Authortues',\n",
       " 'and',\n",
       " 'help',\n",
       " 'Axahonties,',\n",
       " 'incheding',\n",
       " 'Authorves',\n",
       " 'establish',\n",
       " 'experience',\n",
       " 'gamed',\n",
       " 'business',\n",
       " 'cases.',\n",
       " 'internationally',\n",
       " '+',\n",
       " 'dently',\n",
       " 'and',\n",
       " 'share',\n",
       " 'Cost',\n",
       " 'effectively',\n",
       " 'expenence',\n",
       " 'gained',\n",
       " 'implement',\n",
       " 'lessons',\n",
       " 'inkernabonslly',\n",
       " 'learnt',\n",
       " 'in',\n",
       " 'one',\n",
       " 'contract/',\n",
       " 'Authonty',\n",
       " 'over',\n",
       " 'all',\n",
       " 'contacts']"
      ]
     },
     "execution_count": 24,
     "metadata": {},
     "output_type": "execute_result"
    }
   ],
   "source": [
    "file_contents"
   ]
  },
  {
   "cell_type": "code",
   "execution_count": 22,
   "metadata": {},
   "outputs": [
    {
     "name": "stdout",
     "output_type": "stream",
     "text": [
      "The image contains 148 words.\n"
     ]
    }
   ],
   "source": [
    "# Print the word count\n",
    "print(f'The image contains {word_count_cv2} words.')"
   ]
  },
  {
   "cell_type": "code",
   "execution_count": null,
   "metadata": {},
   "outputs": [],
   "source": []
  }
 ],
 "metadata": {
  "kernelspec": {
   "display_name": "Python 3",
   "language": "python",
   "name": "python3"
  },
  "language_info": {
   "codemirror_mode": {
    "name": "ipython",
    "version": 3
   },
   "file_extension": ".py",
   "mimetype": "text/x-python",
   "name": "python",
   "nbconvert_exporter": "python",
   "pygments_lexer": "ipython3",
   "version": "3.12.0"
  }
 },
 "nbformat": 4,
 "nbformat_minor": 2
}
