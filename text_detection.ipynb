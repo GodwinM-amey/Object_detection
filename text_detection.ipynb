{
 "cells": [
  {
   "cell_type": "code",
   "execution_count": 17,
   "metadata": {},
   "outputs": [],
   "source": [
    "# pip install pytesseract"
   ]
  },
  {
   "cell_type": "code",
   "execution_count": 18,
   "metadata": {},
   "outputs": [],
   "source": [
    "from PIL import Image\n",
    "import pytesseract"
   ]
  },
  {
   "cell_type": "code",
   "execution_count": 19,
   "metadata": {},
   "outputs": [],
   "source": [
    "\"\"\"\n",
    "Need to install Tesseract from https://github.com/UB-Mannheim/tesseract/wiki for windows.\n",
    "Need to add the Path below\n",
    "\"\"\"\n",
    "# If you don't have tesseract executable in your PATH, include the following:\n",
    "pytesseract.pytesseract.tesseract_cmd = r'C:/Users/118441/AppData/Local/Programs/Tesseract-OCR/tesseract.exe'\n",
    "# Example tesseract_cmd = r'C:\\Program Files (x86)\\Tesseract-OCR\\tesseract'"
   ]
  },
  {
   "cell_type": "code",
   "execution_count": 25,
   "metadata": {},
   "outputs": [
    {
     "name": "stderr",
     "output_type": "stream",
     "text": [
      "<>:2: SyntaxWarning: invalid escape sequence '\\i'\n",
      "<>:2: SyntaxWarning: invalid escape sequence '\\i'\n",
      "C:\\Users\\118441\\AppData\\Local\\Temp\\ipykernel_11572\\2060658873.py:2: SyntaxWarning: invalid escape sequence '\\i'\n",
      "  image = Image.open('C:/Users/118441/OneDrive - Amey plc/Documents/Highways\\images/I_AP.jpg')\n"
     ]
    }
   ],
   "source": [
    "# open the image file\n",
    "image = Image.open('C:/Users/118441/OneDrive - Amey plc/Documents/Highways\\images/I_AP.jpg')"
   ]
  },
  {
   "cell_type": "code",
   "execution_count": 26,
   "metadata": {},
   "outputs": [],
   "source": [
    "# Convert the image to text\n",
    "text = pytesseract.image_to_string(image)\n",
    "\n",
    "# Count the number of words in the text\n",
    "word_count = len(text.split())"
   ]
  },
  {
   "cell_type": "code",
   "execution_count": 27,
   "metadata": {},
   "outputs": [
    {
     "name": "stdout",
     "output_type": "stream",
     "text": [
      "Term Contractor Technology Communications,\n",
      "collaboration and Developers and OEMS etc.\n",
      "Implementa data providers\n",
      "\n",
      "Work with Local Work at the regional Collaborate with,\n",
      "Authorities to accelerate level to overcome data encourage and support\n",
      "uptake of Digital Local sharing issues across standards development\n",
      "Roads solutions Authorities Engage nares\n",
      "\n",
      "Share the benefits Collaborate with, industry and cross\n",
      "(e.g. where there a ‘encourage and support sector collaboration to\n",
      "cost reductions) with standards development encourage and drive\n",
      "Local Authorities (ree Pes data access\n",
      "\n",
      "to help overcome to proactively expand Collaborate with\n",
      "\n",
      "tisk averseness and the ap} Authorities to establish\n",
      "GREE greater numbers of processes for real time\n",
      "Ld Authorities. Focus on mutual data exchange\n",
      "Promote experience i ing costs to\n",
      "\n",
      "and benefits across Authorities and help\n",
      "\n",
      "Authorities, including Authorities establish\n",
      "\n",
      "‘experience gained business cases.\n",
      "\n",
      "eamecueay) Identify and share\n",
      "\n",
      "Cost effectively experience gained\n",
      "\n",
      "implement lessons internationally\n",
      "\n",
      "learnt in one contract/\n",
      "\n",
      "Authority over all\n",
      "\n",
      "contracts\n",
      "\n",
      "\n"
     ]
    }
   ],
   "source": [
    "# Print the recognized text\n",
    "print(text)"
   ]
  },
  {
   "cell_type": "code",
   "execution_count": 28,
   "metadata": {},
   "outputs": [
    {
     "data": {
      "text/plain": [
       "1097"
      ]
     },
     "execution_count": 28,
     "metadata": {},
     "output_type": "execute_result"
    }
   ],
   "source": [
    "len(text)"
   ]
  },
  {
   "cell_type": "code",
   "execution_count": 29,
   "metadata": {},
   "outputs": [
    {
     "name": "stdout",
     "output_type": "stream",
     "text": [
      "The image contains 148 words.\n"
     ]
    }
   ],
   "source": [
    "# Print the word count\n",
    "print(f'The image contains {word_count} words.')"
   ]
  },
  {
   "cell_type": "code",
   "execution_count": null,
   "metadata": {},
   "outputs": [],
   "source": []
  }
 ],
 "metadata": {
  "kernelspec": {
   "display_name": "Python 3",
   "language": "python",
   "name": "python3"
  },
  "language_info": {
   "codemirror_mode": {
    "name": "ipython",
    "version": 3
   },
   "file_extension": ".py",
   "mimetype": "text/x-python",
   "name": "python",
   "nbconvert_exporter": "python",
   "pygments_lexer": "ipython3",
   "version": "3.12.0"
  }
 },
 "nbformat": 4,
 "nbformat_minor": 2
}
